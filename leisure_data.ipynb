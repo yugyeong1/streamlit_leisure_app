{
 "cells": [
  {
   "cell_type": "code",
   "execution_count": 1,
   "id": "fb8f18ec",
   "metadata": {},
   "outputs": [],
   "source": [
    "import pandas as pd\n",
    "import numpy as np\n",
    "import matplotlib.pyplot as plt\n",
    "import seaborn as sb"
   ]
  },
  {
   "cell_type": "code",
   "execution_count": 2,
   "id": "87f54c71",
   "metadata": {},
   "outputs": [],
   "source": [
    "# 한글 처리를 위한 코드\n",
    "%matplotlib inline\n",
    "\n",
    "import platform\n",
    "\n",
    "from matplotlib import font_manager, rc\n",
    "plt.rcParams['axes.unicode_minus'] = False\n",
    "\n",
    "if platform.system() == 'Darwin':\n",
    "    rc('font', family='AppleGothic')\n",
    "elif platform.system() == 'Windows':\n",
    "    path = \"c:/Windows/Fonts/malgun.ttf\"\n",
    "    font_name = font_manager.FontProperties(fname=path).get_name()\n",
    "    rc('font', family=font_name)\n",
    "else:\n",
    "    print('Unknown system... sorry~~~~')"
   ]
  },
  {
   "cell_type": "code",
   "execution_count": 3,
   "id": "b979699d",
   "metadata": {},
   "outputs": [],
   "source": [
    "# 여가관련 지출 동향 및 의향 데이터\n",
    "sp_tre1 = pd.read_csv('data/spending_trends/sp_tre1.csv')\n",
    "sp_tre2 = pd.read_csv('data/spending_trends/sp_tre2.csv')\n",
    "sp_tre3 = pd.read_csv('data/spending_trends/sp_tre3.csv')\n",
    "sp_tre4 = pd.read_csv('data/spending_trends/sp_tre4.csv')\n",
    "sp_tre5 = pd.read_csv('data/spending_trends/sp_tre5.csv')\n",
    "\n",
    "# 여가관련 지출 동향 및 의향 데이터 합치기\n",
    "spending_trend = pd.concat([sp_tre1, sp_tre2, sp_tre3, sp_tre4, sp_tre5])\n",
    "\n",
    "# 컬럼명 바꾸기\n",
    "spending_trend = spending_trend.rename( columns = {'RESPOND_ID':'id', 'EXAMIN_BEGIN_DE':'inspection_day' , 'SEXDSTN_FLAG_CD':'gender', \n",
    "                                  'AGRDE_FLAG_NM':'age', 'ANSWRR_OC_AREA_NM':'area', 'HSHLD_INCOME_DGREE_NM': 'income_degree', \n",
    "                                  'LSR_CT_EXPNDTR_TNDCY_VALUE':'now_leisure_spend','LSR_CT_EXPNDTR_INTEN_VALUE':'willingness_to_spending'})"
   ]
  },
  {
   "cell_type": "code",
   "execution_count": 4,
   "id": "1684225c",
   "metadata": {},
   "outputs": [],
   "source": [
    "# 하루 평균 여가문화 시간 및 사용 비중 데이터\n",
    "avg_leisure1 = pd.read_csv('data/avg_leisure/avg_leisure1.csv')\n",
    "avg_leisure2 = pd.read_csv('data/avg_leisure/avg_leisure2.csv')\n",
    "avg_leisure3 = pd.read_csv('data/avg_leisure/avg_leisure3.csv')\n",
    "avg_leisure4 = pd.read_csv('data/avg_leisure/avg_leisure4.csv')\n",
    "avg_leisure5 = pd.read_csv('data/avg_leisure/avg_leisure5.csv')\n",
    "\n",
    "# 하루 평균 여가문화 시간 및 사용 비중 데이터 합치기\n",
    "avg_leisure = pd.concat([avg_leisure1, avg_leisure2, avg_leisure3, avg_leisure4, avg_leisure5])\n",
    "\n",
    "# 컬럼명 바꾸기\n",
    "avg_leisure = avg_leisure.rename( columns = {'RESPOND_ID':'id', 'EXAMIN_BEGIN_DE':'inspection_day' , 'SEXDSTN_FLAG_CD':'gender','AGRDE_FLAG_NM':'age',\n",
    "                               'ANSWRR_OC_AREA_NM':'area', 'HSHLD_INCOME_DGREE_NM': 'income_degree', 'WORKDAY_DAY_AVRG_LSR_TIME_VALUE':'workday_leisure_avg', 'WKEND_DAY_AVRG_LSR_TIME_VALUE' : 'weekend_leisure_avg',\n",
    "                               'ONE_WEEK_TOT_LSR_TIME_VALUE':'one_week_total_leisure', 'LSR_TIME_REST_RCRT_USE_RATE' : 'rest_rcrt_rate',\n",
    "                               'LSR_TIME_HOBBY_USE_RATE': 'hobby_rate', 'LSR_TIME_SELF_IMPT_USE_RATE':'self_impt_rate',\n",
    "                               'LSR_TIME_TWDPSN_RLTN_FLWSP_USE_RATE': 'human_relationship_rate', 'LSR_TIME_ETC_USE_RATE':'etc_rate'})"
   ]
  },
  {
   "cell_type": "code",
   "execution_count": 5,
   "id": "4d679557",
   "metadata": {},
   "outputs": [
    {
     "data": {
      "text/plain": [
       "id                         0\n",
       "inspection_day             0\n",
       "gender                     0\n",
       "age                        0\n",
       "area                       0\n",
       "income_degree              0\n",
       "now_leisure_spend          0\n",
       "willingness_to_spending    0\n",
       "dtype: int64"
      ]
     },
     "execution_count": 5,
     "metadata": {},
     "output_type": "execute_result"
    }
   ],
   "source": [
    "# Nan 값 확인\n",
    "spending_trend.isna().sum()"
   ]
  },
  {
   "cell_type": "code",
   "execution_count": 6,
   "id": "a55f63d5",
   "metadata": {},
   "outputs": [
    {
     "data": {
      "text/plain": [
       "M    1323\n",
       "F    1306\n",
       "Name: gender, dtype: int64"
      ]
     },
     "execution_count": 6,
     "metadata": {},
     "output_type": "execute_result"
    }
   ],
   "source": [
    "spending_trend['gender'].value_counts()"
   ]
  },
  {
   "cell_type": "code",
   "execution_count": 7,
   "id": "0be91f23",
   "metadata": {},
   "outputs": [
    {
     "data": {
      "text/plain": [
       "50대    598\n",
       "40대    573\n",
       "60대    509\n",
       "30대    482\n",
       "20대    467\n",
       "Name: age, dtype: int64"
      ]
     },
     "execution_count": 7,
     "metadata": {},
     "output_type": "execute_result"
    }
   ],
   "source": [
    "spending_trend['age'].value_counts()"
   ]
  },
  {
   "cell_type": "code",
   "execution_count": 8,
   "id": "176bd406",
   "metadata": {},
   "outputs": [
    {
     "data": {
      "text/plain": [
       "경기도        609\n",
       "서울특별시      455\n",
       "부산광역시      204\n",
       "인천광역시      184\n",
       "경상남도       165\n",
       "대구광역시      139\n",
       "경상북도       129\n",
       "충청남도       115\n",
       "충청북도       102\n",
       "광주광역시       91\n",
       "전라북도        90\n",
       "대전광역시       80\n",
       "강원도         76\n",
       "전라남도        76\n",
       "울산광역시       60\n",
       "제주특별자치도     36\n",
       "세종특별자치시     18\n",
       "Name: area, dtype: int64"
      ]
     },
     "execution_count": 8,
     "metadata": {},
     "output_type": "execute_result"
    }
   ],
   "source": [
    "spending_trend['area'].value_counts()"
   ]
  },
  {
   "cell_type": "code",
   "execution_count": 9,
   "id": "474e7597",
   "metadata": {},
   "outputs": [
    {
     "data": {
      "text/plain": [
       "300이상500만원 미만    801\n",
       "300만원 미만         685\n",
       "500이상700만원 미만    514\n",
       "700만원 이상         471\n",
       "무응답              158\n",
       "Name: income_degree, dtype: int64"
      ]
     },
     "execution_count": 9,
     "metadata": {},
     "output_type": "execute_result"
    }
   ],
   "source": [
    "spending_trend['income_degree'].value_counts()"
   ]
  },
  {
   "cell_type": "code",
   "execution_count": 10,
   "id": "56c37450",
   "metadata": {},
   "outputs": [
    {
     "data": {
      "text/plain": [
       "비슷하다       1179\n",
       "증가한 편이다    1015\n",
       "감소한 편이다     291\n",
       "크게 증가했다     107\n",
       "크게 감소했다      37\n",
       "Name: now_leisure_spend, dtype: int64"
      ]
     },
     "execution_count": 10,
     "metadata": {},
     "output_type": "execute_result"
    }
   ],
   "source": [
    "spending_trend['now_leisure_spend'].value_counts()"
   ]
  },
  {
   "cell_type": "code",
   "execution_count": 11,
   "id": "83208e0c",
   "metadata": {},
   "outputs": [
    {
     "data": {
      "text/plain": [
       "비슷할 것이다       1217\n",
       "증가할 것이다       1068\n",
       "감소할 것이다        238\n",
       "크게 증가할 것이다      73\n",
       "크게 감소할 것이다      33\n",
       "Name: willingness_to_spending, dtype: int64"
      ]
     },
     "execution_count": 11,
     "metadata": {},
     "output_type": "execute_result"
    }
   ],
   "source": [
    "spending_trend['willingness_to_spending'].value_counts()"
   ]
  },
  {
   "cell_type": "code",
   "execution_count": 12,
   "id": "774f5161",
   "metadata": {},
   "outputs": [
    {
     "data": {
      "text/plain": [
       "id                         0\n",
       "inspection_day             0\n",
       "gender                     0\n",
       "age                        0\n",
       "area                       0\n",
       "income_degree              0\n",
       "workday_leisure_avg        0\n",
       "weekend_leisure_avg        0\n",
       "one_week_total_leisure     0\n",
       "rest_rcrt_rate             0\n",
       "hobby_rate                 0\n",
       "self_impt_rate             0\n",
       "human_relationship_rate    0\n",
       "etc_rate                   0\n",
       "dtype: int64"
      ]
     },
     "execution_count": 12,
     "metadata": {},
     "output_type": "execute_result"
    }
   ],
   "source": [
    "avg_leisure.isna().sum()"
   ]
  },
  {
   "cell_type": "code",
   "execution_count": 13,
   "id": "74d3a3f1",
   "metadata": {},
   "outputs": [],
   "source": [
    "# 데이터 가공"
   ]
  },
  {
   "cell_type": "code",
   "execution_count": 14,
   "id": "3caad2d4",
   "metadata": {},
   "outputs": [],
   "source": [
    "# spendint_trend 데이터와 avg_leisure 데이터가 겹치는 컬럼을 avg_leisure 데이터프레임에서 제거\n",
    "avg_leisure = avg_leisure.drop(['inspection_day','gender','age','area','income_degree'], axis= 1)"
   ]
  },
  {
   "cell_type": "code",
   "execution_count": 15,
   "id": "92478d8f",
   "metadata": {},
   "outputs": [],
   "source": [
    "# 데이터프레임 두개를 merge\n",
    "leisure_data = pd.merge(spending_trend, avg_leisure, on = 'id', how= 'left')"
   ]
  },
  {
   "cell_type": "code",
   "execution_count": 16,
   "id": "f912d6da",
   "metadata": {},
   "outputs": [],
   "source": [
    "leisure_data.loc[leisure_data['income_degree'] == '300만원 미만','income_degree'] = 200\n",
    "leisure_data.loc[leisure_data['income_degree'] == '300이상500만원 미만','income_degree'] = 400\n",
    "leisure_data.loc[leisure_data['income_degree'] == '500이상700만원 미만','income_degree'] = 600\n",
    "leisure_data.loc[leisure_data['income_degree'] == '700만원 이상','income_degree'] = 700"
   ]
  },
  {
   "cell_type": "code",
   "execution_count": 17,
   "id": "da6fb40a",
   "metadata": {},
   "outputs": [],
   "source": [
    "leisure_data = leisure_data[~leisure_data['income_degree'].isin(['무응답'])]"
   ]
  },
  {
   "cell_type": "code",
   "execution_count": 18,
   "id": "cc15b61b",
   "metadata": {},
   "outputs": [],
   "source": [
    "leisure_data['income_degree'] = leisure_data['income_degree'].astype(float)"
   ]
  },
  {
   "cell_type": "code",
   "execution_count": 19,
   "id": "ed594448",
   "metadata": {},
   "outputs": [
    {
     "data": {
      "text/html": [
       "<div>\n",
       "<style scoped>\n",
       "    .dataframe tbody tr th:only-of-type {\n",
       "        vertical-align: middle;\n",
       "    }\n",
       "\n",
       "    .dataframe tbody tr th {\n",
       "        vertical-align: top;\n",
       "    }\n",
       "\n",
       "    .dataframe thead th {\n",
       "        text-align: right;\n",
       "    }\n",
       "</style>\n",
       "<table border=\"1\" class=\"dataframe\">\n",
       "  <thead>\n",
       "    <tr style=\"text-align: right;\">\n",
       "      <th></th>\n",
       "      <th>id</th>\n",
       "      <th>inspection_day</th>\n",
       "      <th>gender</th>\n",
       "      <th>age</th>\n",
       "      <th>area</th>\n",
       "      <th>income_degree</th>\n",
       "      <th>now_leisure_spend</th>\n",
       "      <th>willingness_to_spending</th>\n",
       "      <th>workday_leisure_avg</th>\n",
       "      <th>weekend_leisure_avg</th>\n",
       "      <th>one_week_total_leisure</th>\n",
       "      <th>rest_rcrt_rate</th>\n",
       "      <th>hobby_rate</th>\n",
       "      <th>self_impt_rate</th>\n",
       "      <th>human_relationship_rate</th>\n",
       "      <th>etc_rate</th>\n",
       "    </tr>\n",
       "  </thead>\n",
       "  <tbody>\n",
       "    <tr>\n",
       "      <th>0</th>\n",
       "      <td>53322496</td>\n",
       "      <td>20221102</td>\n",
       "      <td>F</td>\n",
       "      <td>60대</td>\n",
       "      <td>서울특별시</td>\n",
       "      <td>400.0</td>\n",
       "      <td>비슷하다</td>\n",
       "      <td>비슷할 것이다</td>\n",
       "      <td>2</td>\n",
       "      <td>2</td>\n",
       "      <td>14</td>\n",
       "      <td>30</td>\n",
       "      <td>0</td>\n",
       "      <td>0</td>\n",
       "      <td>30</td>\n",
       "      <td>40</td>\n",
       "    </tr>\n",
       "    <tr>\n",
       "      <th>2</th>\n",
       "      <td>53322600</td>\n",
       "      <td>20221102</td>\n",
       "      <td>F</td>\n",
       "      <td>60대</td>\n",
       "      <td>서울특별시</td>\n",
       "      <td>600.0</td>\n",
       "      <td>비슷하다</td>\n",
       "      <td>비슷할 것이다</td>\n",
       "      <td>2</td>\n",
       "      <td>1</td>\n",
       "      <td>12</td>\n",
       "      <td>10</td>\n",
       "      <td>60</td>\n",
       "      <td>0</td>\n",
       "      <td>30</td>\n",
       "      <td>0</td>\n",
       "    </tr>\n",
       "    <tr>\n",
       "      <th>3</th>\n",
       "      <td>53322622</td>\n",
       "      <td>20221102</td>\n",
       "      <td>M</td>\n",
       "      <td>60대</td>\n",
       "      <td>서울특별시</td>\n",
       "      <td>200.0</td>\n",
       "      <td>감소한 편이다</td>\n",
       "      <td>감소할 것이다</td>\n",
       "      <td>2</td>\n",
       "      <td>0</td>\n",
       "      <td>10</td>\n",
       "      <td>40</td>\n",
       "      <td>15</td>\n",
       "      <td>10</td>\n",
       "      <td>35</td>\n",
       "      <td>0</td>\n",
       "    </tr>\n",
       "    <tr>\n",
       "      <th>4</th>\n",
       "      <td>53322914</td>\n",
       "      <td>20221102</td>\n",
       "      <td>F</td>\n",
       "      <td>50대</td>\n",
       "      <td>서울특별시</td>\n",
       "      <td>200.0</td>\n",
       "      <td>증가한 편이다</td>\n",
       "      <td>증가할 것이다</td>\n",
       "      <td>2</td>\n",
       "      <td>4</td>\n",
       "      <td>18</td>\n",
       "      <td>0</td>\n",
       "      <td>0</td>\n",
       "      <td>40</td>\n",
       "      <td>20</td>\n",
       "      <td>40</td>\n",
       "    </tr>\n",
       "    <tr>\n",
       "      <th>5</th>\n",
       "      <td>53322977</td>\n",
       "      <td>20221102</td>\n",
       "      <td>F</td>\n",
       "      <td>60대</td>\n",
       "      <td>서울특별시</td>\n",
       "      <td>400.0</td>\n",
       "      <td>비슷하다</td>\n",
       "      <td>비슷할 것이다</td>\n",
       "      <td>5</td>\n",
       "      <td>2</td>\n",
       "      <td>29</td>\n",
       "      <td>10</td>\n",
       "      <td>10</td>\n",
       "      <td>10</td>\n",
       "      <td>50</td>\n",
       "      <td>20</td>\n",
       "    </tr>\n",
       "    <tr>\n",
       "      <th>...</th>\n",
       "      <td>...</td>\n",
       "      <td>...</td>\n",
       "      <td>...</td>\n",
       "      <td>...</td>\n",
       "      <td>...</td>\n",
       "      <td>...</td>\n",
       "      <td>...</td>\n",
       "      <td>...</td>\n",
       "      <td>...</td>\n",
       "      <td>...</td>\n",
       "      <td>...</td>\n",
       "      <td>...</td>\n",
       "      <td>...</td>\n",
       "      <td>...</td>\n",
       "      <td>...</td>\n",
       "      <td>...</td>\n",
       "    </tr>\n",
       "    <tr>\n",
       "      <th>2624</th>\n",
       "      <td>53376697</td>\n",
       "      <td>20221130</td>\n",
       "      <td>F</td>\n",
       "      <td>20대</td>\n",
       "      <td>대전광역시</td>\n",
       "      <td>200.0</td>\n",
       "      <td>비슷하다</td>\n",
       "      <td>증가할 것이다</td>\n",
       "      <td>3</td>\n",
       "      <td>3</td>\n",
       "      <td>21</td>\n",
       "      <td>90</td>\n",
       "      <td>0</td>\n",
       "      <td>0</td>\n",
       "      <td>10</td>\n",
       "      <td>0</td>\n",
       "    </tr>\n",
       "    <tr>\n",
       "      <th>2625</th>\n",
       "      <td>53376719</td>\n",
       "      <td>20221130</td>\n",
       "      <td>M</td>\n",
       "      <td>30대</td>\n",
       "      <td>울산광역시</td>\n",
       "      <td>400.0</td>\n",
       "      <td>증가한 편이다</td>\n",
       "      <td>증가할 것이다</td>\n",
       "      <td>2</td>\n",
       "      <td>2</td>\n",
       "      <td>14</td>\n",
       "      <td>15</td>\n",
       "      <td>5</td>\n",
       "      <td>80</td>\n",
       "      <td>0</td>\n",
       "      <td>0</td>\n",
       "    </tr>\n",
       "    <tr>\n",
       "      <th>2626</th>\n",
       "      <td>53376796</td>\n",
       "      <td>20221130</td>\n",
       "      <td>M</td>\n",
       "      <td>50대</td>\n",
       "      <td>서울특별시</td>\n",
       "      <td>400.0</td>\n",
       "      <td>비슷하다</td>\n",
       "      <td>비슷할 것이다</td>\n",
       "      <td>2</td>\n",
       "      <td>8</td>\n",
       "      <td>26</td>\n",
       "      <td>0</td>\n",
       "      <td>0</td>\n",
       "      <td>50</td>\n",
       "      <td>50</td>\n",
       "      <td>0</td>\n",
       "    </tr>\n",
       "    <tr>\n",
       "      <th>2627</th>\n",
       "      <td>53377215</td>\n",
       "      <td>20221130</td>\n",
       "      <td>M</td>\n",
       "      <td>20대</td>\n",
       "      <td>인천광역시</td>\n",
       "      <td>600.0</td>\n",
       "      <td>증가한 편이다</td>\n",
       "      <td>비슷할 것이다</td>\n",
       "      <td>2</td>\n",
       "      <td>6</td>\n",
       "      <td>22</td>\n",
       "      <td>50</td>\n",
       "      <td>20</td>\n",
       "      <td>0</td>\n",
       "      <td>30</td>\n",
       "      <td>0</td>\n",
       "    </tr>\n",
       "    <tr>\n",
       "      <th>2628</th>\n",
       "      <td>53377437</td>\n",
       "      <td>20221130</td>\n",
       "      <td>F</td>\n",
       "      <td>30대</td>\n",
       "      <td>울산광역시</td>\n",
       "      <td>400.0</td>\n",
       "      <td>비슷하다</td>\n",
       "      <td>비슷할 것이다</td>\n",
       "      <td>3</td>\n",
       "      <td>3</td>\n",
       "      <td>21</td>\n",
       "      <td>10</td>\n",
       "      <td>20</td>\n",
       "      <td>20</td>\n",
       "      <td>20</td>\n",
       "      <td>30</td>\n",
       "    </tr>\n",
       "  </tbody>\n",
       "</table>\n",
       "<p>2471 rows × 16 columns</p>\n",
       "</div>"
      ],
      "text/plain": [
       "            id  inspection_day gender  age   area  income_degree  \\\n",
       "0     53322496        20221102      F  60대  서울특별시          400.0   \n",
       "2     53322600        20221102      F  60대  서울특별시          600.0   \n",
       "3     53322622        20221102      M  60대  서울특별시          200.0   \n",
       "4     53322914        20221102      F  50대  서울특별시          200.0   \n",
       "5     53322977        20221102      F  60대  서울특별시          400.0   \n",
       "...        ...             ...    ...  ...    ...            ...   \n",
       "2624  53376697        20221130      F  20대  대전광역시          200.0   \n",
       "2625  53376719        20221130      M  30대  울산광역시          400.0   \n",
       "2626  53376796        20221130      M  50대  서울특별시          400.0   \n",
       "2627  53377215        20221130      M  20대  인천광역시          600.0   \n",
       "2628  53377437        20221130      F  30대  울산광역시          400.0   \n",
       "\n",
       "     now_leisure_spend willingness_to_spending  workday_leisure_avg  \\\n",
       "0                 비슷하다                 비슷할 것이다                    2   \n",
       "2                 비슷하다                 비슷할 것이다                    2   \n",
       "3              감소한 편이다                 감소할 것이다                    2   \n",
       "4              증가한 편이다                 증가할 것이다                    2   \n",
       "5                 비슷하다                 비슷할 것이다                    5   \n",
       "...                ...                     ...                  ...   \n",
       "2624              비슷하다                 증가할 것이다                    3   \n",
       "2625           증가한 편이다                 증가할 것이다                    2   \n",
       "2626              비슷하다                 비슷할 것이다                    2   \n",
       "2627           증가한 편이다                 비슷할 것이다                    2   \n",
       "2628              비슷하다                 비슷할 것이다                    3   \n",
       "\n",
       "      weekend_leisure_avg  one_week_total_leisure  rest_rcrt_rate  hobby_rate  \\\n",
       "0                       2                      14              30           0   \n",
       "2                       1                      12              10          60   \n",
       "3                       0                      10              40          15   \n",
       "4                       4                      18               0           0   \n",
       "5                       2                      29              10          10   \n",
       "...                   ...                     ...             ...         ...   \n",
       "2624                    3                      21              90           0   \n",
       "2625                    2                      14              15           5   \n",
       "2626                    8                      26               0           0   \n",
       "2627                    6                      22              50          20   \n",
       "2628                    3                      21              10          20   \n",
       "\n",
       "      self_impt_rate  human_relationship_rate  etc_rate  \n",
       "0                  0                       30        40  \n",
       "2                  0                       30         0  \n",
       "3                 10                       35         0  \n",
       "4                 40                       20        40  \n",
       "5                 10                       50        20  \n",
       "...              ...                      ...       ...  \n",
       "2624               0                       10         0  \n",
       "2625              80                        0         0  \n",
       "2626              50                       50         0  \n",
       "2627               0                       30         0  \n",
       "2628              20                       20        30  \n",
       "\n",
       "[2471 rows x 16 columns]"
      ]
     },
     "execution_count": 19,
     "metadata": {},
     "output_type": "execute_result"
    }
   ],
   "source": [
    "leisure_data"
   ]
  },
  {
   "cell_type": "code",
   "execution_count": 20,
   "id": "f2d20b2a",
   "metadata": {},
   "outputs": [
    {
     "data": {
      "text/html": [
       "<div>\n",
       "<style scoped>\n",
       "    .dataframe tbody tr th:only-of-type {\n",
       "        vertical-align: middle;\n",
       "    }\n",
       "\n",
       "    .dataframe tbody tr th {\n",
       "        vertical-align: top;\n",
       "    }\n",
       "\n",
       "    .dataframe thead th {\n",
       "        text-align: right;\n",
       "    }\n",
       "</style>\n",
       "<table border=\"1\" class=\"dataframe\">\n",
       "  <thead>\n",
       "    <tr style=\"text-align: right;\">\n",
       "      <th></th>\n",
       "      <th>workday_leisure_avg</th>\n",
       "      <th>weekend_leisure_avg</th>\n",
       "      <th>one_week_total_leisure</th>\n",
       "    </tr>\n",
       "    <tr>\n",
       "      <th>age</th>\n",
       "      <th></th>\n",
       "      <th></th>\n",
       "      <th></th>\n",
       "    </tr>\n",
       "  </thead>\n",
       "  <tbody>\n",
       "    <tr>\n",
       "      <th>20대</th>\n",
       "      <td>3.314917</td>\n",
       "      <td>6.848066</td>\n",
       "      <td>30.270718</td>\n",
       "    </tr>\n",
       "    <tr>\n",
       "      <th>30대</th>\n",
       "      <td>2.573276</td>\n",
       "      <td>5.790948</td>\n",
       "      <td>24.448276</td>\n",
       "    </tr>\n",
       "    <tr>\n",
       "      <th>40대</th>\n",
       "      <td>2.522202</td>\n",
       "      <td>5.380107</td>\n",
       "      <td>23.371226</td>\n",
       "    </tr>\n",
       "    <tr>\n",
       "      <th>50대</th>\n",
       "      <td>2.724786</td>\n",
       "      <td>5.340171</td>\n",
       "      <td>24.304274</td>\n",
       "    </tr>\n",
       "    <tr>\n",
       "      <th>60대</th>\n",
       "      <td>3.233400</td>\n",
       "      <td>5.319920</td>\n",
       "      <td>26.806841</td>\n",
       "    </tr>\n",
       "  </tbody>\n",
       "</table>\n",
       "</div>"
      ],
      "text/plain": [
       "     workday_leisure_avg  weekend_leisure_avg  one_week_total_leisure\n",
       "age                                                                  \n",
       "20대             3.314917             6.848066               30.270718\n",
       "30대             2.573276             5.790948               24.448276\n",
       "40대             2.522202             5.380107               23.371226\n",
       "50대             2.724786             5.340171               24.304274\n",
       "60대             3.233400             5.319920               26.806841"
      ]
     },
     "execution_count": 20,
     "metadata": {},
     "output_type": "execute_result"
    }
   ],
   "source": [
    "# 평일, 주말, 1주 에 각 나이대별로 여가생활을 즐기는 총 시간의 평균\n",
    "leisure_data.groupby('age')[['workday_leisure_avg', 'weekend_leisure_avg', 'one_week_total_leisure']].mean()"
   ]
  },
  {
   "cell_type": "code",
   "execution_count": 21,
   "id": "8bf79a56",
   "metadata": {},
   "outputs": [
    {
     "data": {
      "text/html": [
       "<div>\n",
       "<style scoped>\n",
       "    .dataframe tbody tr th:only-of-type {\n",
       "        vertical-align: middle;\n",
       "    }\n",
       "\n",
       "    .dataframe tbody tr th {\n",
       "        vertical-align: top;\n",
       "    }\n",
       "\n",
       "    .dataframe thead th {\n",
       "        text-align: right;\n",
       "    }\n",
       "</style>\n",
       "<table border=\"1\" class=\"dataframe\">\n",
       "  <thead>\n",
       "    <tr style=\"text-align: right;\">\n",
       "      <th></th>\n",
       "      <th>workday_leisure_avg</th>\n",
       "      <th>weekend_leisure_avg</th>\n",
       "      <th>one_week_total_leisure</th>\n",
       "    </tr>\n",
       "    <tr>\n",
       "      <th>income_degree</th>\n",
       "      <th></th>\n",
       "      <th></th>\n",
       "      <th></th>\n",
       "    </tr>\n",
       "  </thead>\n",
       "  <tbody>\n",
       "    <tr>\n",
       "      <th>200.0</th>\n",
       "      <td>3.065693</td>\n",
       "      <td>5.769343</td>\n",
       "      <td>26.867153</td>\n",
       "    </tr>\n",
       "    <tr>\n",
       "      <th>400.0</th>\n",
       "      <td>2.756554</td>\n",
       "      <td>5.431960</td>\n",
       "      <td>24.646692</td>\n",
       "    </tr>\n",
       "    <tr>\n",
       "      <th>600.0</th>\n",
       "      <td>2.710117</td>\n",
       "      <td>5.745136</td>\n",
       "      <td>25.040856</td>\n",
       "    </tr>\n",
       "    <tr>\n",
       "      <th>700.0</th>\n",
       "      <td>2.789809</td>\n",
       "      <td>5.747346</td>\n",
       "      <td>25.443737</td>\n",
       "    </tr>\n",
       "  </tbody>\n",
       "</table>\n",
       "</div>"
      ],
      "text/plain": [
       "               workday_leisure_avg  weekend_leisure_avg  \\\n",
       "income_degree                                             \n",
       "200.0                     3.065693             5.769343   \n",
       "400.0                     2.756554             5.431960   \n",
       "600.0                     2.710117             5.745136   \n",
       "700.0                     2.789809             5.747346   \n",
       "\n",
       "               one_week_total_leisure  \n",
       "income_degree                          \n",
       "200.0                       26.867153  \n",
       "400.0                       24.646692  \n",
       "600.0                       25.040856  \n",
       "700.0                       25.443737  "
      ]
     },
     "execution_count": 21,
     "metadata": {},
     "output_type": "execute_result"
    }
   ],
   "source": [
    "# 각 소득별 평일, 주말, 1주 에 각 나이대별로 여가생활을 즐기는 총 시간의 평균\n",
    "leisure_data.groupby('income_degree')[['workday_leisure_avg', 'weekend_leisure_avg', 'one_week_total_leisure']].mean()"
   ]
  },
  {
   "cell_type": "code",
   "execution_count": 22,
   "id": "616407c6",
   "metadata": {},
   "outputs": [
    {
     "data": {
      "text/html": [
       "<div>\n",
       "<style scoped>\n",
       "    .dataframe tbody tr th:only-of-type {\n",
       "        vertical-align: middle;\n",
       "    }\n",
       "\n",
       "    .dataframe tbody tr th {\n",
       "        vertical-align: top;\n",
       "    }\n",
       "\n",
       "    .dataframe thead th {\n",
       "        text-align: right;\n",
       "    }\n",
       "</style>\n",
       "<table border=\"1\" class=\"dataframe\">\n",
       "  <thead>\n",
       "    <tr style=\"text-align: right;\">\n",
       "      <th></th>\n",
       "      <th>rest_rcrt_rate</th>\n",
       "      <th>hobby_rate</th>\n",
       "      <th>self_impt_rate</th>\n",
       "      <th>human_relationship_rate</th>\n",
       "      <th>etc_rate</th>\n",
       "    </tr>\n",
       "    <tr>\n",
       "      <th>age</th>\n",
       "      <th></th>\n",
       "      <th></th>\n",
       "      <th></th>\n",
       "      <th></th>\n",
       "      <th></th>\n",
       "    </tr>\n",
       "  </thead>\n",
       "  <tbody>\n",
       "    <tr>\n",
       "      <th>20대</th>\n",
       "      <td>46.284530</td>\n",
       "      <td>17.005525</td>\n",
       "      <td>10.787293</td>\n",
       "      <td>24.508287</td>\n",
       "      <td>1.414365</td>\n",
       "    </tr>\n",
       "    <tr>\n",
       "      <th>30대</th>\n",
       "      <td>47.734914</td>\n",
       "      <td>17.137931</td>\n",
       "      <td>11.342672</td>\n",
       "      <td>21.607759</td>\n",
       "      <td>2.176724</td>\n",
       "    </tr>\n",
       "    <tr>\n",
       "      <th>40대</th>\n",
       "      <td>41.623446</td>\n",
       "      <td>18.589698</td>\n",
       "      <td>13.031972</td>\n",
       "      <td>23.200710</td>\n",
       "      <td>3.554174</td>\n",
       "    </tr>\n",
       "    <tr>\n",
       "      <th>50대</th>\n",
       "      <td>37.528205</td>\n",
       "      <td>22.152137</td>\n",
       "      <td>13.080342</td>\n",
       "      <td>24.111111</td>\n",
       "      <td>3.128205</td>\n",
       "    </tr>\n",
       "    <tr>\n",
       "      <th>60대</th>\n",
       "      <td>32.102616</td>\n",
       "      <td>24.458753</td>\n",
       "      <td>14.519115</td>\n",
       "      <td>24.686117</td>\n",
       "      <td>4.233400</td>\n",
       "    </tr>\n",
       "  </tbody>\n",
       "</table>\n",
       "</div>"
      ],
      "text/plain": [
       "     rest_rcrt_rate  hobby_rate  self_impt_rate  human_relationship_rate  \\\n",
       "age                                                                        \n",
       "20대       46.284530   17.005525       10.787293                24.508287   \n",
       "30대       47.734914   17.137931       11.342672                21.607759   \n",
       "40대       41.623446   18.589698       13.031972                23.200710   \n",
       "50대       37.528205   22.152137       13.080342                24.111111   \n",
       "60대       32.102616   24.458753       14.519115                24.686117   \n",
       "\n",
       "     etc_rate  \n",
       "age            \n",
       "20대  1.414365  \n",
       "30대  2.176724  \n",
       "40대  3.554174  \n",
       "50대  3.128205  \n",
       "60대  4.233400  "
      ]
     },
     "execution_count": 22,
     "metadata": {},
     "output_type": "execute_result"
    }
   ],
   "source": [
    "# 나이대별로 즐기는 여가 종류의 평균\n",
    "leisure_data.groupby('age')[['rest_rcrt_rate', 'hobby_rate', 'self_impt_rate', 'human_relationship_rate','etc_rate']].mean()"
   ]
  },
  {
   "cell_type": "code",
   "execution_count": 23,
   "id": "5ada92a9",
   "metadata": {},
   "outputs": [
    {
     "data": {
      "text/html": [
       "<div>\n",
       "<style scoped>\n",
       "    .dataframe tbody tr th:only-of-type {\n",
       "        vertical-align: middle;\n",
       "    }\n",
       "\n",
       "    .dataframe tbody tr th {\n",
       "        vertical-align: top;\n",
       "    }\n",
       "\n",
       "    .dataframe thead th {\n",
       "        text-align: right;\n",
       "    }\n",
       "</style>\n",
       "<table border=\"1\" class=\"dataframe\">\n",
       "  <thead>\n",
       "    <tr style=\"text-align: right;\">\n",
       "      <th></th>\n",
       "      <th>rest_rcrt_rate</th>\n",
       "      <th>hobby_rate</th>\n",
       "      <th>self_impt_rate</th>\n",
       "      <th>human_relationship_rate</th>\n",
       "      <th>etc_rate</th>\n",
       "    </tr>\n",
       "    <tr>\n",
       "      <th>income_degree</th>\n",
       "      <th></th>\n",
       "      <th></th>\n",
       "      <th></th>\n",
       "      <th></th>\n",
       "      <th></th>\n",
       "    </tr>\n",
       "  </thead>\n",
       "  <tbody>\n",
       "    <tr>\n",
       "      <th>200.0</th>\n",
       "      <td>41.992701</td>\n",
       "      <td>18.220438</td>\n",
       "      <td>12.286131</td>\n",
       "      <td>24.001460</td>\n",
       "      <td>3.499270</td>\n",
       "    </tr>\n",
       "    <tr>\n",
       "      <th>400.0</th>\n",
       "      <td>41.509363</td>\n",
       "      <td>20.355805</td>\n",
       "      <td>12.583021</td>\n",
       "      <td>22.766542</td>\n",
       "      <td>2.785268</td>\n",
       "    </tr>\n",
       "    <tr>\n",
       "      <th>600.0</th>\n",
       "      <td>39.293774</td>\n",
       "      <td>21.124514</td>\n",
       "      <td>12.533074</td>\n",
       "      <td>24.054475</td>\n",
       "      <td>2.994163</td>\n",
       "    </tr>\n",
       "    <tr>\n",
       "      <th>700.0</th>\n",
       "      <td>38.292994</td>\n",
       "      <td>21.326964</td>\n",
       "      <td>13.664544</td>\n",
       "      <td>23.976645</td>\n",
       "      <td>2.738854</td>\n",
       "    </tr>\n",
       "  </tbody>\n",
       "</table>\n",
       "</div>"
      ],
      "text/plain": [
       "               rest_rcrt_rate  hobby_rate  self_impt_rate  \\\n",
       "income_degree                                               \n",
       "200.0               41.992701   18.220438       12.286131   \n",
       "400.0               41.509363   20.355805       12.583021   \n",
       "600.0               39.293774   21.124514       12.533074   \n",
       "700.0               38.292994   21.326964       13.664544   \n",
       "\n",
       "               human_relationship_rate  etc_rate  \n",
       "income_degree                                     \n",
       "200.0                        24.001460  3.499270  \n",
       "400.0                        22.766542  2.785268  \n",
       "600.0                        24.054475  2.994163  \n",
       "700.0                        23.976645  2.738854  "
      ]
     },
     "execution_count": 23,
     "metadata": {},
     "output_type": "execute_result"
    }
   ],
   "source": [
    "# 각 소득별 즐기는 여가 종류의 비율 평균 \n",
    "leisure_data.groupby('income_degree')[['rest_rcrt_rate', 'hobby_rate', 'self_impt_rate','human_relationship_rate','etc_rate']].mean()"
   ]
  },
  {
   "cell_type": "code",
   "execution_count": null,
   "id": "46c52b99",
   "metadata": {},
   "outputs": [],
   "source": []
  },
  {
   "cell_type": "code",
   "execution_count": 24,
   "id": "70014438",
   "metadata": {},
   "outputs": [
    {
     "data": {
      "text/html": [
       "<div>\n",
       "<style scoped>\n",
       "    .dataframe tbody tr th:only-of-type {\n",
       "        vertical-align: middle;\n",
       "    }\n",
       "\n",
       "    .dataframe tbody tr th {\n",
       "        vertical-align: top;\n",
       "    }\n",
       "\n",
       "    .dataframe thead th {\n",
       "        text-align: right;\n",
       "    }\n",
       "</style>\n",
       "<table border=\"1\" class=\"dataframe\">\n",
       "  <thead>\n",
       "    <tr style=\"text-align: right;\">\n",
       "      <th></th>\n",
       "      <th>rest_rcrt_rate</th>\n",
       "      <th>hobby_rate</th>\n",
       "      <th>self_impt_rate</th>\n",
       "      <th>human_relationship_rate</th>\n",
       "      <th>etc_rate</th>\n",
       "    </tr>\n",
       "    <tr>\n",
       "      <th>gender</th>\n",
       "      <th></th>\n",
       "      <th></th>\n",
       "      <th></th>\n",
       "      <th></th>\n",
       "      <th></th>\n",
       "    </tr>\n",
       "  </thead>\n",
       "  <tbody>\n",
       "    <tr>\n",
       "      <th>F</th>\n",
       "      <td>40.929926</td>\n",
       "      <td>17.720528</td>\n",
       "      <td>13.826051</td>\n",
       "      <td>23.965375</td>\n",
       "      <td>3.55812</td>\n",
       "    </tr>\n",
       "    <tr>\n",
       "      <th>M</th>\n",
       "      <td>40.221781</td>\n",
       "      <td>22.411765</td>\n",
       "      <td>11.607313</td>\n",
       "      <td>23.262321</td>\n",
       "      <td>2.49682</td>\n",
       "    </tr>\n",
       "  </tbody>\n",
       "</table>\n",
       "</div>"
      ],
      "text/plain": [
       "        rest_rcrt_rate  hobby_rate  self_impt_rate  human_relationship_rate  \\\n",
       "gender                                                                        \n",
       "F            40.929926   17.720528       13.826051                23.965375   \n",
       "M            40.221781   22.411765       11.607313                23.262321   \n",
       "\n",
       "        etc_rate  \n",
       "gender            \n",
       "F        3.55812  \n",
       "M        2.49682  "
      ]
     },
     "execution_count": 24,
     "metadata": {},
     "output_type": "execute_result"
    }
   ],
   "source": [
    "# 각 성별별로 즐기는 여가 생활의 비율 평균\n",
    "leisure_data.groupby('gender')[['rest_rcrt_rate', 'hobby_rate', 'self_impt_rate','human_relationship_rate','etc_rate']].mean()"
   ]
  },
  {
   "cell_type": "code",
   "execution_count": 25,
   "id": "5e754338",
   "metadata": {},
   "outputs": [
    {
     "data": {
      "text/html": [
       "<div>\n",
       "<style scoped>\n",
       "    .dataframe tbody tr th:only-of-type {\n",
       "        vertical-align: middle;\n",
       "    }\n",
       "\n",
       "    .dataframe tbody tr th {\n",
       "        vertical-align: top;\n",
       "    }\n",
       "\n",
       "    .dataframe thead th {\n",
       "        text-align: right;\n",
       "    }\n",
       "</style>\n",
       "<table border=\"1\" class=\"dataframe\">\n",
       "  <thead>\n",
       "    <tr style=\"text-align: right;\">\n",
       "      <th></th>\n",
       "      <th>id</th>\n",
       "      <th>inspection_day</th>\n",
       "      <th>income_degree</th>\n",
       "      <th>workday_leisure_avg</th>\n",
       "      <th>weekend_leisure_avg</th>\n",
       "      <th>one_week_total_leisure</th>\n",
       "      <th>rest_rcrt_rate</th>\n",
       "      <th>hobby_rate</th>\n",
       "      <th>self_impt_rate</th>\n",
       "      <th>human_relationship_rate</th>\n",
       "      <th>etc_rate</th>\n",
       "    </tr>\n",
       "  </thead>\n",
       "  <tbody>\n",
       "    <tr>\n",
       "      <th>count</th>\n",
       "      <td>2.471000e+03</td>\n",
       "      <td>2.471000e+03</td>\n",
       "      <td>2471.000000</td>\n",
       "      <td>2471.000000</td>\n",
       "      <td>2471.000000</td>\n",
       "      <td>2471.000000</td>\n",
       "      <td>2471.000000</td>\n",
       "      <td>2471.000000</td>\n",
       "      <td>2471.000000</td>\n",
       "      <td>2471.000000</td>\n",
       "      <td>2471.000000</td>\n",
       "    </tr>\n",
       "    <tr>\n",
       "      <th>mean</th>\n",
       "      <td>5.332812e+07</td>\n",
       "      <td>2.022112e+07</td>\n",
       "      <td>443.342776</td>\n",
       "      <td>2.838932</td>\n",
       "      <td>5.650749</td>\n",
       "      <td>25.496155</td>\n",
       "      <td>40.569405</td>\n",
       "      <td>20.108863</td>\n",
       "      <td>12.696479</td>\n",
       "      <td>23.607446</td>\n",
       "      <td>3.017807</td>\n",
       "    </tr>\n",
       "    <tr>\n",
       "      <th>std</th>\n",
       "      <td>1.053224e+06</td>\n",
       "      <td>9.935305e+00</td>\n",
       "      <td>186.278261</td>\n",
       "      <td>2.071974</td>\n",
       "      <td>3.445915</td>\n",
       "      <td>14.726051</td>\n",
       "      <td>26.237269</td>\n",
       "      <td>19.979075</td>\n",
       "      <td>14.786748</td>\n",
       "      <td>19.234134</td>\n",
       "      <td>11.392433</td>\n",
       "    </tr>\n",
       "    <tr>\n",
       "      <th>min</th>\n",
       "      <td>1.000001e+06</td>\n",
       "      <td>2.022110e+07</td>\n",
       "      <td>200.000000</td>\n",
       "      <td>0.000000</td>\n",
       "      <td>0.000000</td>\n",
       "      <td>0.000000</td>\n",
       "      <td>0.000000</td>\n",
       "      <td>0.000000</td>\n",
       "      <td>0.000000</td>\n",
       "      <td>0.000000</td>\n",
       "      <td>0.000000</td>\n",
       "    </tr>\n",
       "    <tr>\n",
       "      <th>25%</th>\n",
       "      <td>5.333625e+07</td>\n",
       "      <td>2.022111e+07</td>\n",
       "      <td>200.000000</td>\n",
       "      <td>2.000000</td>\n",
       "      <td>3.000000</td>\n",
       "      <td>15.000000</td>\n",
       "      <td>20.000000</td>\n",
       "      <td>0.000000</td>\n",
       "      <td>0.000000</td>\n",
       "      <td>10.000000</td>\n",
       "      <td>0.000000</td>\n",
       "    </tr>\n",
       "    <tr>\n",
       "      <th>50%</th>\n",
       "      <td>5.334934e+07</td>\n",
       "      <td>2.022112e+07</td>\n",
       "      <td>400.000000</td>\n",
       "      <td>2.000000</td>\n",
       "      <td>5.000000</td>\n",
       "      <td>22.000000</td>\n",
       "      <td>40.000000</td>\n",
       "      <td>20.000000</td>\n",
       "      <td>10.000000</td>\n",
       "      <td>20.000000</td>\n",
       "      <td>0.000000</td>\n",
       "    </tr>\n",
       "    <tr>\n",
       "      <th>75%</th>\n",
       "      <td>5.336240e+07</td>\n",
       "      <td>2.022112e+07</td>\n",
       "      <td>600.000000</td>\n",
       "      <td>4.000000</td>\n",
       "      <td>8.000000</td>\n",
       "      <td>32.000000</td>\n",
       "      <td>60.000000</td>\n",
       "      <td>30.000000</td>\n",
       "      <td>20.000000</td>\n",
       "      <td>30.000000</td>\n",
       "      <td>0.000000</td>\n",
       "    </tr>\n",
       "    <tr>\n",
       "      <th>max</th>\n",
       "      <td>5.337752e+07</td>\n",
       "      <td>2.022113e+07</td>\n",
       "      <td>700.000000</td>\n",
       "      <td>18.000000</td>\n",
       "      <td>18.000000</td>\n",
       "      <td>126.000000</td>\n",
       "      <td>100.000000</td>\n",
       "      <td>100.000000</td>\n",
       "      <td>100.000000</td>\n",
       "      <td>100.000000</td>\n",
       "      <td>100.000000</td>\n",
       "    </tr>\n",
       "  </tbody>\n",
       "</table>\n",
       "</div>"
      ],
      "text/plain": [
       "                 id  inspection_day  income_degree  workday_leisure_avg  \\\n",
       "count  2.471000e+03    2.471000e+03    2471.000000          2471.000000   \n",
       "mean   5.332812e+07    2.022112e+07     443.342776             2.838932   \n",
       "std    1.053224e+06    9.935305e+00     186.278261             2.071974   \n",
       "min    1.000001e+06    2.022110e+07     200.000000             0.000000   \n",
       "25%    5.333625e+07    2.022111e+07     200.000000             2.000000   \n",
       "50%    5.334934e+07    2.022112e+07     400.000000             2.000000   \n",
       "75%    5.336240e+07    2.022112e+07     600.000000             4.000000   \n",
       "max    5.337752e+07    2.022113e+07     700.000000            18.000000   \n",
       "\n",
       "       weekend_leisure_avg  one_week_total_leisure  rest_rcrt_rate  \\\n",
       "count          2471.000000             2471.000000     2471.000000   \n",
       "mean              5.650749               25.496155       40.569405   \n",
       "std               3.445915               14.726051       26.237269   \n",
       "min               0.000000                0.000000        0.000000   \n",
       "25%               3.000000               15.000000       20.000000   \n",
       "50%               5.000000               22.000000       40.000000   \n",
       "75%               8.000000               32.000000       60.000000   \n",
       "max              18.000000              126.000000      100.000000   \n",
       "\n",
       "        hobby_rate  self_impt_rate  human_relationship_rate     etc_rate  \n",
       "count  2471.000000     2471.000000              2471.000000  2471.000000  \n",
       "mean     20.108863       12.696479                23.607446     3.017807  \n",
       "std      19.979075       14.786748                19.234134    11.392433  \n",
       "min       0.000000        0.000000                 0.000000     0.000000  \n",
       "25%       0.000000        0.000000                10.000000     0.000000  \n",
       "50%      20.000000       10.000000                20.000000     0.000000  \n",
       "75%      30.000000       20.000000                30.000000     0.000000  \n",
       "max     100.000000      100.000000               100.000000   100.000000  "
      ]
     },
     "execution_count": 25,
     "metadata": {},
     "output_type": "execute_result"
    }
   ],
   "source": [
    "leisure_data.describe()"
   ]
  },
  {
   "cell_type": "code",
   "execution_count": 26,
   "id": "7bcfb5c1",
   "metadata": {},
   "outputs": [
    {
     "data": {
      "text/html": [
       "<div>\n",
       "<style scoped>\n",
       "    .dataframe tbody tr th:only-of-type {\n",
       "        vertical-align: middle;\n",
       "    }\n",
       "\n",
       "    .dataframe tbody tr th {\n",
       "        vertical-align: top;\n",
       "    }\n",
       "\n",
       "    .dataframe thead th {\n",
       "        text-align: right;\n",
       "    }\n",
       "</style>\n",
       "<table border=\"1\" class=\"dataframe\">\n",
       "  <thead>\n",
       "    <tr style=\"text-align: right;\">\n",
       "      <th></th>\n",
       "      <th>id</th>\n",
       "      <th>inspection_day</th>\n",
       "      <th>income_degree</th>\n",
       "      <th>workday_leisure_avg</th>\n",
       "      <th>weekend_leisure_avg</th>\n",
       "      <th>one_week_total_leisure</th>\n",
       "      <th>rest_rcrt_rate</th>\n",
       "      <th>hobby_rate</th>\n",
       "      <th>self_impt_rate</th>\n",
       "      <th>human_relationship_rate</th>\n",
       "      <th>etc_rate</th>\n",
       "    </tr>\n",
       "  </thead>\n",
       "  <tbody>\n",
       "    <tr>\n",
       "      <th>id</th>\n",
       "      <td>1.000000</td>\n",
       "      <td>-0.000600</td>\n",
       "      <td>-0.028040</td>\n",
       "      <td>0.017201</td>\n",
       "      <td>0.026914</td>\n",
       "      <td>0.024697</td>\n",
       "      <td>-0.045907</td>\n",
       "      <td>0.020300</td>\n",
       "      <td>0.017776</td>\n",
       "      <td>0.024695</td>\n",
       "      <td>0.005360</td>\n",
       "    </tr>\n",
       "    <tr>\n",
       "      <th>inspection_day</th>\n",
       "      <td>-0.000600</td>\n",
       "      <td>1.000000</td>\n",
       "      <td>0.009270</td>\n",
       "      <td>-0.008610</td>\n",
       "      <td>-0.046826</td>\n",
       "      <td>-0.027972</td>\n",
       "      <td>0.009084</td>\n",
       "      <td>-0.000565</td>\n",
       "      <td>0.004771</td>\n",
       "      <td>0.000272</td>\n",
       "      <td>-0.026581</td>\n",
       "    </tr>\n",
       "    <tr>\n",
       "      <th>income_degree</th>\n",
       "      <td>-0.028040</td>\n",
       "      <td>0.009270</td>\n",
       "      <td>1.000000</td>\n",
       "      <td>-0.053758</td>\n",
       "      <td>0.004481</td>\n",
       "      <td>-0.035722</td>\n",
       "      <td>-0.053660</td>\n",
       "      <td>0.058226</td>\n",
       "      <td>0.025900</td>\n",
       "      <td>0.004988</td>\n",
       "      <td>-0.020567</td>\n",
       "    </tr>\n",
       "    <tr>\n",
       "      <th>workday_leisure_avg</th>\n",
       "      <td>0.017201</td>\n",
       "      <td>-0.008610</td>\n",
       "      <td>-0.053758</td>\n",
       "      <td>1.000000</td>\n",
       "      <td>0.434410</td>\n",
       "      <td>0.906811</td>\n",
       "      <td>0.049001</td>\n",
       "      <td>-0.014041</td>\n",
       "      <td>0.015146</td>\n",
       "      <td>-0.039592</td>\n",
       "      <td>-0.041042</td>\n",
       "    </tr>\n",
       "    <tr>\n",
       "      <th>weekend_leisure_avg</th>\n",
       "      <td>0.026914</td>\n",
       "      <td>-0.046826</td>\n",
       "      <td>0.004481</td>\n",
       "      <td>0.434410</td>\n",
       "      <td>1.000000</td>\n",
       "      <td>0.773613</td>\n",
       "      <td>0.041633</td>\n",
       "      <td>-0.044858</td>\n",
       "      <td>-0.027912</td>\n",
       "      <td>0.014271</td>\n",
       "      <td>-0.005080</td>\n",
       "    </tr>\n",
       "    <tr>\n",
       "      <th>one_week_total_leisure</th>\n",
       "      <td>0.024697</td>\n",
       "      <td>-0.027972</td>\n",
       "      <td>-0.035722</td>\n",
       "      <td>0.906811</td>\n",
       "      <td>0.773613</td>\n",
       "      <td>1.000000</td>\n",
       "      <td>0.053957</td>\n",
       "      <td>-0.030871</td>\n",
       "      <td>-0.002408</td>\n",
       "      <td>-0.021174</td>\n",
       "      <td>-0.031251</td>\n",
       "    </tr>\n",
       "    <tr>\n",
       "      <th>rest_rcrt_rate</th>\n",
       "      <td>-0.045907</td>\n",
       "      <td>0.009084</td>\n",
       "      <td>-0.053660</td>\n",
       "      <td>0.049001</td>\n",
       "      <td>0.041633</td>\n",
       "      <td>0.053957</td>\n",
       "      <td>1.000000</td>\n",
       "      <td>-0.510412</td>\n",
       "      <td>-0.388351</td>\n",
       "      <td>-0.427165</td>\n",
       "      <td>-0.182675</td>\n",
       "    </tr>\n",
       "    <tr>\n",
       "      <th>hobby_rate</th>\n",
       "      <td>0.020300</td>\n",
       "      <td>-0.000565</td>\n",
       "      <td>0.058226</td>\n",
       "      <td>-0.014041</td>\n",
       "      <td>-0.044858</td>\n",
       "      <td>-0.030871</td>\n",
       "      <td>-0.510412</td>\n",
       "      <td>1.000000</td>\n",
       "      <td>-0.063442</td>\n",
       "      <td>-0.219841</td>\n",
       "      <td>-0.124705</td>\n",
       "    </tr>\n",
       "    <tr>\n",
       "      <th>self_impt_rate</th>\n",
       "      <td>0.017776</td>\n",
       "      <td>0.004771</td>\n",
       "      <td>0.025900</td>\n",
       "      <td>0.015146</td>\n",
       "      <td>-0.027912</td>\n",
       "      <td>-0.002408</td>\n",
       "      <td>-0.388351</td>\n",
       "      <td>-0.063442</td>\n",
       "      <td>1.000000</td>\n",
       "      <td>-0.127178</td>\n",
       "      <td>-0.077581</td>\n",
       "    </tr>\n",
       "    <tr>\n",
       "      <th>human_relationship_rate</th>\n",
       "      <td>0.024695</td>\n",
       "      <td>0.000272</td>\n",
       "      <td>0.004988</td>\n",
       "      <td>-0.039592</td>\n",
       "      <td>0.014271</td>\n",
       "      <td>-0.021174</td>\n",
       "      <td>-0.427165</td>\n",
       "      <td>-0.219841</td>\n",
       "      <td>-0.127178</td>\n",
       "      <td>1.000000</td>\n",
       "      <td>-0.153938</td>\n",
       "    </tr>\n",
       "    <tr>\n",
       "      <th>etc_rate</th>\n",
       "      <td>0.005360</td>\n",
       "      <td>-0.026581</td>\n",
       "      <td>-0.020567</td>\n",
       "      <td>-0.041042</td>\n",
       "      <td>-0.005080</td>\n",
       "      <td>-0.031251</td>\n",
       "      <td>-0.182675</td>\n",
       "      <td>-0.124705</td>\n",
       "      <td>-0.077581</td>\n",
       "      <td>-0.153938</td>\n",
       "      <td>1.000000</td>\n",
       "    </tr>\n",
       "  </tbody>\n",
       "</table>\n",
       "</div>"
      ],
      "text/plain": [
       "                               id  inspection_day  income_degree  \\\n",
       "id                       1.000000       -0.000600      -0.028040   \n",
       "inspection_day          -0.000600        1.000000       0.009270   \n",
       "income_degree           -0.028040        0.009270       1.000000   \n",
       "workday_leisure_avg      0.017201       -0.008610      -0.053758   \n",
       "weekend_leisure_avg      0.026914       -0.046826       0.004481   \n",
       "one_week_total_leisure   0.024697       -0.027972      -0.035722   \n",
       "rest_rcrt_rate          -0.045907        0.009084      -0.053660   \n",
       "hobby_rate               0.020300       -0.000565       0.058226   \n",
       "self_impt_rate           0.017776        0.004771       0.025900   \n",
       "human_relationship_rate  0.024695        0.000272       0.004988   \n",
       "etc_rate                 0.005360       -0.026581      -0.020567   \n",
       "\n",
       "                         workday_leisure_avg  weekend_leisure_avg  \\\n",
       "id                                  0.017201             0.026914   \n",
       "inspection_day                     -0.008610            -0.046826   \n",
       "income_degree                      -0.053758             0.004481   \n",
       "workday_leisure_avg                 1.000000             0.434410   \n",
       "weekend_leisure_avg                 0.434410             1.000000   \n",
       "one_week_total_leisure              0.906811             0.773613   \n",
       "rest_rcrt_rate                      0.049001             0.041633   \n",
       "hobby_rate                         -0.014041            -0.044858   \n",
       "self_impt_rate                      0.015146            -0.027912   \n",
       "human_relationship_rate            -0.039592             0.014271   \n",
       "etc_rate                           -0.041042            -0.005080   \n",
       "\n",
       "                         one_week_total_leisure  rest_rcrt_rate  hobby_rate  \\\n",
       "id                                     0.024697       -0.045907    0.020300   \n",
       "inspection_day                        -0.027972        0.009084   -0.000565   \n",
       "income_degree                         -0.035722       -0.053660    0.058226   \n",
       "workday_leisure_avg                    0.906811        0.049001   -0.014041   \n",
       "weekend_leisure_avg                    0.773613        0.041633   -0.044858   \n",
       "one_week_total_leisure                 1.000000        0.053957   -0.030871   \n",
       "rest_rcrt_rate                         0.053957        1.000000   -0.510412   \n",
       "hobby_rate                            -0.030871       -0.510412    1.000000   \n",
       "self_impt_rate                        -0.002408       -0.388351   -0.063442   \n",
       "human_relationship_rate               -0.021174       -0.427165   -0.219841   \n",
       "etc_rate                              -0.031251       -0.182675   -0.124705   \n",
       "\n",
       "                         self_impt_rate  human_relationship_rate  etc_rate  \n",
       "id                             0.017776                 0.024695  0.005360  \n",
       "inspection_day                 0.004771                 0.000272 -0.026581  \n",
       "income_degree                  0.025900                 0.004988 -0.020567  \n",
       "workday_leisure_avg            0.015146                -0.039592 -0.041042  \n",
       "weekend_leisure_avg           -0.027912                 0.014271 -0.005080  \n",
       "one_week_total_leisure        -0.002408                -0.021174 -0.031251  \n",
       "rest_rcrt_rate                -0.388351                -0.427165 -0.182675  \n",
       "hobby_rate                    -0.063442                -0.219841 -0.124705  \n",
       "self_impt_rate                 1.000000                -0.127178 -0.077581  \n",
       "human_relationship_rate       -0.127178                 1.000000 -0.153938  \n",
       "etc_rate                      -0.077581                -0.153938  1.000000  "
      ]
     },
     "execution_count": 26,
     "metadata": {},
     "output_type": "execute_result"
    }
   ],
   "source": [
    "leisure_data.corr()"
   ]
  },
  {
   "cell_type": "code",
   "execution_count": 27,
   "id": "38955f6b",
   "metadata": {},
   "outputs": [],
   "source": [
    "# 연령대별로 어느정도 버는지"
   ]
  },
  {
   "cell_type": "code",
   "execution_count": 28,
   "id": "4f0a88b4",
   "metadata": {},
   "outputs": [
    {
     "data": {
      "image/png": "[encoded data removed]",
      "text/plain": [
       "<Figure size 640x480 with 1 Axes>"
      ]
     },
     "metadata": {},
     "output_type": "display_data"
    }
   ],
   "source": [
    "leisure_data.groupby('age')['income_degree'].mean().sort_values().plot(kind= 'bar')\n",
    "plt.xticks(rotation= 45)\n",
    "plt.title('연령대별 가구소득정도')\n",
    "plt.ylabel('income')\n",
    "plt.show()"
   ]
  },
  {
   "cell_type": "code",
   "execution_count": null,
   "id": "c62d9768",
   "metadata": {},
   "outputs": [],
   "source": []
  },
  {
   "cell_type": "code",
   "execution_count": 29,
   "id": "4032c949",
   "metadata": {},
   "outputs": [],
   "source": [
    "# 연령대별로 현재 여가활동에 어느정도 쓰고있는지"
   ]
  },
  {
   "cell_type": "code",
   "execution_count": 30,
   "id": "c3fd37be",
   "metadata": {},
   "outputs": [],
   "source": [
    "# 20대를 예시로"
   ]
  },
  {
   "cell_type": "code",
   "execution_count": 75,
   "id": "28d95919",
   "metadata": {},
   "outputs": [],
   "source": [
    "heatmap_data = leisure_data.groupby('age')[['rest_rcrt_rate','hobby_rate','self_impt_rate','human_relationship_rate','etc_rate']].mean().reset_index()"
   ]
  },
  {
   "cell_type": "code",
   "execution_count": 76,
   "id": "02e3e4ed",
   "metadata": {},
   "outputs": [],
   "source": [
    "heatmap_data['age'] = heatmap_data['age'].str.replace('대',\"'s\")"
   ]
  },
  {
   "cell_type": "code",
   "execution_count": 77,
   "id": "cd71e9e9",
   "metadata": {},
   "outputs": [
    {
     "data": {
      "text/html": [
       "<div>\n",
       "<style scoped>\n",
       "    .dataframe tbody tr th:only-of-type {\n",
       "        vertical-align: middle;\n",
       "    }\n",
       "\n",
       "    .dataframe tbody tr th {\n",
       "        vertical-align: top;\n",
       "    }\n",
       "\n",
       "    .dataframe thead th {\n",
       "        text-align: right;\n",
       "    }\n",
       "</style>\n",
       "<table border=\"1\" class=\"dataframe\">\n",
       "  <thead>\n",
       "    <tr style=\"text-align: right;\">\n",
       "      <th></th>\n",
       "      <th>rest_rcrt_rate</th>\n",
       "      <th>hobby_rate</th>\n",
       "      <th>self_impt_rate</th>\n",
       "      <th>human_relationship_rate</th>\n",
       "      <th>etc_rate</th>\n",
       "    </tr>\n",
       "    <tr>\n",
       "      <th>age</th>\n",
       "      <th></th>\n",
       "      <th></th>\n",
       "      <th></th>\n",
       "      <th></th>\n",
       "      <th></th>\n",
       "    </tr>\n",
       "  </thead>\n",
       "  <tbody>\n",
       "    <tr>\n",
       "      <th>20's</th>\n",
       "      <td>46.284530</td>\n",
       "      <td>17.005525</td>\n",
       "      <td>10.787293</td>\n",
       "      <td>24.508287</td>\n",
       "      <td>1.414365</td>\n",
       "    </tr>\n",
       "    <tr>\n",
       "      <th>30's</th>\n",
       "      <td>47.734914</td>\n",
       "      <td>17.137931</td>\n",
       "      <td>11.342672</td>\n",
       "      <td>21.607759</td>\n",
       "      <td>2.176724</td>\n",
       "    </tr>\n",
       "    <tr>\n",
       "      <th>40's</th>\n",
       "      <td>41.623446</td>\n",
       "      <td>18.589698</td>\n",
       "      <td>13.031972</td>\n",
       "      <td>23.200710</td>\n",
       "      <td>3.554174</td>\n",
       "    </tr>\n",
       "    <tr>\n",
       "      <th>50's</th>\n",
       "      <td>37.528205</td>\n",
       "      <td>22.152137</td>\n",
       "      <td>13.080342</td>\n",
       "      <td>24.111111</td>\n",
       "      <td>3.128205</td>\n",
       "    </tr>\n",
       "    <tr>\n",
       "      <th>60's</th>\n",
       "      <td>32.102616</td>\n",
       "      <td>24.458753</td>\n",
       "      <td>14.519115</td>\n",
       "      <td>24.686117</td>\n",
       "      <td>4.233400</td>\n",
       "    </tr>\n",
       "  </tbody>\n",
       "</table>\n",
       "</div>"
      ],
      "text/plain": [
       "      rest_rcrt_rate  hobby_rate  self_impt_rate  human_relationship_rate  \\\n",
       "age                                                                         \n",
       "20's       46.284530   17.005525       10.787293                24.508287   \n",
       "30's       47.734914   17.137931       11.342672                21.607759   \n",
       "40's       41.623446   18.589698       13.031972                23.200710   \n",
       "50's       37.528205   22.152137       13.080342                24.111111   \n",
       "60's       32.102616   24.458753       14.519115                24.686117   \n",
       "\n",
       "      etc_rate  \n",
       "age             \n",
       "20's  1.414365  \n",
       "30's  2.176724  \n",
       "40's  3.554174  \n",
       "50's  3.128205  \n",
       "60's  4.233400  "
      ]
     },
     "execution_count": 77,
     "metadata": {},
     "output_type": "execute_result"
    }
   ],
   "source": [
    "heatmap_data.set_index('age')"
   ]
  },
  {
   "cell_type": "code",
   "execution_count": null,
   "id": "4a6a1195",
   "metadata": {},
   "outputs": [],
   "source": []
  },
  {
   "cell_type": "code",
   "execution_count": null,
   "id": "426d4e3c",
   "metadata": {},
   "outputs": [],
   "source": []
  },
  {
   "cell_type": "code",
   "execution_count": null,
   "id": "365118b4",
   "metadata": {},
   "outputs": [],
   "source": [
    "leisure_data[leisure_data['age'] == '20대']['now_leisure_spend'].value_counts().to_frame()"
   ]
  },
  {
   "cell_type": "code",
   "execution_count": null,
   "id": "c087dd1b",
   "metadata": {},
   "outputs": [],
   "source": [
    "leisure_data.groupby('age')['now_leisure_spend'].value_counts().to_frame()"
   ]
  },
  {
   "cell_type": "code",
   "execution_count": null,
   "id": "ff513c1b",
   "metadata": {},
   "outputs": [],
   "source": [
    "# 성별로 현재 여가활동에 어느정도 쓰고있는지"
   ]
  },
  {
   "cell_type": "code",
   "execution_count": null,
   "id": "b06de000",
   "metadata": {},
   "outputs": [],
   "source": [
    "data_M = leisure_data[leisure_data['gender'] == 'M']['now_leisure_spend'].value_counts(ascending= True)"
   ]
  },
  {
   "cell_type": "code",
   "execution_count": null,
   "id": "6c65cf3d",
   "metadata": {
    "scrolled": false
   },
   "outputs": [],
   "source": [
    "plt.pie(data_M, startangle= 90, autopct= '%.2f',wedgeprops= {'width' : 0.7})\n",
    "plt.title('남성이 여가활동에 사용하는 지출 정도')\n",
    "plt.legend(labels = data_M.index.values,loc='upper right')\n",
    "plt.show()"
   ]
  },
  {
   "cell_type": "code",
   "execution_count": null,
   "id": "15b3c4f2",
   "metadata": {
    "scrolled": false
   },
   "outputs": [],
   "source": [
    "leisure_data.groupby('gender')['now_leisure_spend'].value_counts().to_frame()"
   ]
  },
  {
   "cell_type": "code",
   "execution_count": null,
   "id": "0e692b4b",
   "metadata": {},
   "outputs": [],
   "source": []
  },
  {
   "cell_type": "code",
   "execution_count": null,
   "id": "049d65ad",
   "metadata": {},
   "outputs": [],
   "source": [
    "# 앞으로 여가활동에 어느정도 쓸것 같은지 / 연령대별, 성별별로"
   ]
  },
  {
   "cell_type": "code",
   "execution_count": null,
   "id": "13b198a9",
   "metadata": {},
   "outputs": [],
   "source": [
    "# 연령별"
   ]
  },
  {
   "cell_type": "code",
   "execution_count": null,
   "id": "9db49050",
   "metadata": {},
   "outputs": [],
   "source": [
    "will_data_20 = leisure_data[leisure_data['age'] == '20대']['willingness_to_spending'].value_counts(ascending= True)"
   ]
  },
  {
   "cell_type": "code",
   "execution_count": null,
   "id": "ba0d399e",
   "metadata": {},
   "outputs": [],
   "source": [
    "plt.pie(will_data_20, startangle= 90, autopct= '%.2f',wedgeprops= {'width' : 0.7})\n",
    "plt.title('20대가 여가활동에 사용하는 지출 정도')\n",
    "plt.legend(will_data_20.index.values,loc='upper right')\n",
    "plt.show()"
   ]
  },
  {
   "cell_type": "code",
   "execution_count": null,
   "id": "c1d2afce",
   "metadata": {},
   "outputs": [],
   "source": [
    "# 성별별로"
   ]
  },
  {
   "cell_type": "code",
   "execution_count": null,
   "id": "c47f26bc",
   "metadata": {},
   "outputs": [],
   "source": [
    "will_data_M = leisure_data[leisure_data['gender'] == 'M']['willingness_to_spending'].value_counts(ascending= True)"
   ]
  },
  {
   "cell_type": "code",
   "execution_count": null,
   "id": "93682d43",
   "metadata": {},
   "outputs": [],
   "source": [
    "plt.pie(will_data_M, startangle= 90, autopct= '%.2f',wedgeprops= {'width' : 0.7})\n",
    "plt.title('남성이 여가활동에 사용하는 지출 정도')\n",
    "plt.legend(will_data_M.index.values,loc='upper right')\n",
    "plt.show()"
   ]
  },
  {
   "cell_type": "code",
   "execution_count": null,
   "id": "a8e4b53d",
   "metadata": {},
   "outputs": [],
   "source": []
  },
  {
   "cell_type": "code",
   "execution_count": null,
   "id": "81c76fef",
   "metadata": {},
   "outputs": [],
   "source": [
    "# 연령별, 성별별로 어떤 여가활동이 가장 많았는지"
   ]
  },
  {
   "cell_type": "code",
   "execution_count": null,
   "id": "b805fa7f",
   "metadata": {},
   "outputs": [],
   "source": [
    "data = leisure_data.groupby('age')[['rest_rcrt_rate','hobby_rate','self_impt_rate','human_relationship_rate','etc_rate']].mean()"
   ]
  },
  {
   "cell_type": "code",
   "execution_count": null,
   "id": "00bf902a",
   "metadata": {},
   "outputs": [],
   "source": [
    "data"
   ]
  },
  {
   "cell_type": "code",
   "execution_count": null,
   "id": "0d490777",
   "metadata": {},
   "outputs": [],
   "source": [
    "plt.figure(figsize= (10, 8))\n",
    "sb.heatmap(data, cmap='coolwarm', annot= True, fmt='.1f', linewidths= 0.7)\n",
    "plt.xticks(rotation= 360)\n",
    "plt.yticks(rotation= 360)\n",
    "plt.show()"
   ]
  },
  {
   "cell_type": "code",
   "execution_count": null,
   "id": "3cece205",
   "metadata": {},
   "outputs": [],
   "source": [
    "leisure_data.groupby('gender')[['rest_rcrt_rate','hobby_rate','self_impt_rate','human_relationship_rate','etc_rate']].mean()"
   ]
  },
  {
   "cell_type": "code",
   "execution_count": null,
   "id": "c637ea6e",
   "metadata": {},
   "outputs": [],
   "source": [
    "x = leisure_data[leisure_data['gender']=='F'][['rest_rcrt_rate','hobby_rate','self_impt_rate','human_relationship_rate','etc_rate']].mean()\n",
    "plt.plot(x)\n",
    "plt.xticks(rotation= 45)\n",
    "plt.title('여성이 주로 즐기는 여가 종류')\n",
    "plt.xlabel('type of leisure')\n",
    "plt.ylabel('average of numbers')\n",
    "plt.show()"
   ]
  },
  {
   "cell_type": "code",
   "execution_count": null,
   "id": "3a74cb89",
   "metadata": {},
   "outputs": [],
   "source": [
    "x"
   ]
  },
  {
   "cell_type": "code",
   "execution_count": null,
   "id": "b230e85c",
   "metadata": {},
   "outputs": [],
   "source": [
    "leisure_data[['rest_rcrt_rate','hobby_rate','self_impt_rate','human_relationship_rate','etc_rate']].columnsmns"
   ]
  },
  {
   "cell_type": "code",
   "execution_count": null,
   "id": "98e60290",
   "metadata": {},
   "outputs": [],
   "source": [
    "leisure_data[['rest_rcrt_rate','hobby_rate','self_impt_rate','human_relationship_rate','etc_rate']].columns.values"
   ]
  },
  {
   "cell_type": "code",
   "execution_count": null,
   "id": "e27f56c3",
   "metadata": {},
   "outputs": [],
   "source": []
  },
  {
   "cell_type": "code",
   "execution_count": null,
   "id": "7c198a1a",
   "metadata": {},
   "outputs": [],
   "source": [
    "sp_tre1.head(3)"
   ]
  },
  {
   "cell_type": "code",
   "execution_count": null,
   "id": "3c98c593",
   "metadata": {},
   "outputs": [],
   "source": [
    "avg_leisure1.head(3)"
   ]
  },
  {
   "cell_type": "code",
   "execution_count": null,
   "id": "e0487254",
   "metadata": {},
   "outputs": [],
   "source": []
  },
  {
   "cell_type": "code",
   "execution_count": null,
   "id": "4abf8c68",
   "metadata": {},
   "outputs": [],
   "source": [
    "# 사용자의 평균 여가문화 시간 및 사용 비중에 대해서"
   ]
  },
  {
   "cell_type": "code",
   "execution_count": 95,
   "id": "7394650d",
   "metadata": {},
   "outputs": [
    {
     "data": {
      "text/html": [
       "<div>\n",
       "<style scoped>\n",
       "    .dataframe tbody tr th:only-of-type {\n",
       "        vertical-align: middle;\n",
       "    }\n",
       "\n",
       "    .dataframe tbody tr th {\n",
       "        vertical-align: top;\n",
       "    }\n",
       "\n",
       "    .dataframe thead th {\n",
       "        text-align: right;\n",
       "    }\n",
       "</style>\n",
       "<table border=\"1\" class=\"dataframe\">\n",
       "  <thead>\n",
       "    <tr style=\"text-align: right;\">\n",
       "      <th></th>\n",
       "      <th>workday_leisure_avg</th>\n",
       "      <th>weekend_leisure_avg</th>\n",
       "      <th>one_week_total_leisure</th>\n",
       "    </tr>\n",
       "  </thead>\n",
       "  <tbody>\n",
       "    <tr>\n",
       "      <th>0</th>\n",
       "      <td>2</td>\n",
       "      <td>2</td>\n",
       "      <td>14</td>\n",
       "    </tr>\n",
       "    <tr>\n",
       "      <th>2</th>\n",
       "      <td>2</td>\n",
       "      <td>1</td>\n",
       "      <td>12</td>\n",
       "    </tr>\n",
       "    <tr>\n",
       "      <th>3</th>\n",
       "      <td>2</td>\n",
       "      <td>0</td>\n",
       "      <td>10</td>\n",
       "    </tr>\n",
       "    <tr>\n",
       "      <th>4</th>\n",
       "      <td>2</td>\n",
       "      <td>4</td>\n",
       "      <td>18</td>\n",
       "    </tr>\n",
       "    <tr>\n",
       "      <th>5</th>\n",
       "      <td>5</td>\n",
       "      <td>2</td>\n",
       "      <td>29</td>\n",
       "    </tr>\n",
       "  </tbody>\n",
       "</table>\n",
       "</div>"
      ],
      "text/plain": [
       "   workday_leisure_avg  weekend_leisure_avg  one_week_total_leisure\n",
       "0                    2                    2                      14\n",
       "2                    2                    1                      12\n",
       "3                    2                    0                      10\n",
       "4                    2                    4                      18\n",
       "5                    5                    2                      29"
      ]
     },
     "execution_count": 95,
     "metadata": {},
     "output_type": "execute_result"
    }
   ],
   "source": [
    "leisure_data[['workday_leisure_avg','weekend_leisure_avg','one_week_total_leisure']].head(5)"
   ]
  },
  {
   "cell_type": "code",
   "execution_count": null,
   "id": "99ae3e02",
   "metadata": {},
   "outputs": [],
   "source": []
  },
  {
   "cell_type": "code",
   "execution_count": 116,
   "id": "7bb75dc3",
   "metadata": {},
   "outputs": [
    {
     "data": {
      "text/html": [
       "<div>\n",
       "<style scoped>\n",
       "    .dataframe tbody tr th:only-of-type {\n",
       "        vertical-align: middle;\n",
       "    }\n",
       "\n",
       "    .dataframe tbody tr th {\n",
       "        vertical-align: top;\n",
       "    }\n",
       "\n",
       "    .dataframe thead th {\n",
       "        text-align: right;\n",
       "    }\n",
       "</style>\n",
       "<table border=\"1\" class=\"dataframe\">\n",
       "  <thead>\n",
       "    <tr style=\"text-align: right;\">\n",
       "      <th></th>\n",
       "      <th>workday_leisure_avg</th>\n",
       "      <th>weekend_leisure_avg</th>\n",
       "      <th>one_week_total_leisure</th>\n",
       "    </tr>\n",
       "    <tr>\n",
       "      <th>gender</th>\n",
       "      <th></th>\n",
       "      <th></th>\n",
       "      <th></th>\n",
       "    </tr>\n",
       "  </thead>\n",
       "  <tbody>\n",
       "    <tr>\n",
       "      <th>F</th>\n",
       "      <td>2.937345</td>\n",
       "      <td>5.366859</td>\n",
       "      <td>25.420445</td>\n",
       "    </tr>\n",
       "    <tr>\n",
       "      <th>M</th>\n",
       "      <td>2.744038</td>\n",
       "      <td>5.924483</td>\n",
       "      <td>25.569157</td>\n",
       "    </tr>\n",
       "  </tbody>\n",
       "</table>\n",
       "</div>"
      ],
      "text/plain": [
       "        workday_leisure_avg  weekend_leisure_avg  one_week_total_leisure\n",
       "gender                                                                  \n",
       "F                  2.937345             5.366859               25.420445\n",
       "M                  2.744038             5.924483               25.569157"
      ]
     },
     "execution_count": 116,
     "metadata": {},
     "output_type": "execute_result"
    }
   ],
   "source": [
    "leisure_use"
   ]
  },
  {
   "cell_type": "code",
   "execution_count": 117,
   "id": "5484cf02",
   "metadata": {},
   "outputs": [],
   "source": [
    "leisure_use = leisure_data.groupby('gender')[['workday_leisure_avg','weekend_leisure_avg','one_week_total_leisure']].mean()\n"
   ]
  },
  {
   "cell_type": "code",
   "execution_count": null,
   "id": "8310623f",
   "metadata": {},
   "outputs": [],
   "source": [
    "sb.countplot(data)"
   ]
  },
  {
   "cell_type": "code",
   "execution_count": null,
   "id": "943b1a0f",
   "metadata": {},
   "outputs": [],
   "source": []
  },
  {
   "cell_type": "code",
   "execution_count": null,
   "id": "53f7b4a6",
   "metadata": {},
   "outputs": [],
   "source": []
  },
  {
   "cell_type": "code",
   "execution_count": null,
   "id": "c194b2cf",
   "metadata": {},
   "outputs": [],
   "source": []
  },
  {
   "cell_type": "code",
   "execution_count": null,
   "id": "67cf2071",
   "metadata": {},
   "outputs": [],
   "source": []
  },
  {
   "cell_type": "code",
   "execution_count": null,
   "id": "b785a78d",
   "metadata": {},
   "outputs": [],
   "source": []
  },
  {
   "cell_type": "code",
   "execution_count": 108,
   "id": "9e6c5f6e",
   "metadata": {},
   "outputs": [],
   "source": [
    "leisure_use = leisure_use.reset_index()"
   ]
  },
  {
   "cell_type": "code",
   "execution_count": 110,
   "id": "55d8bdf0",
   "metadata": {},
   "outputs": [],
   "source": [
    "leisure_use['gender'] = ['여성', '남성']"
   ]
  },
  {
   "cell_type": "code",
   "execution_count": 112,
   "id": "94942506",
   "metadata": {},
   "outputs": [
    {
     "data": {
      "text/html": [
       "<div>\n",
       "<style scoped>\n",
       "    .dataframe tbody tr th:only-of-type {\n",
       "        vertical-align: middle;\n",
       "    }\n",
       "\n",
       "    .dataframe tbody tr th {\n",
       "        vertical-align: top;\n",
       "    }\n",
       "\n",
       "    .dataframe thead th {\n",
       "        text-align: right;\n",
       "    }\n",
       "</style>\n",
       "<table border=\"1\" class=\"dataframe\">\n",
       "  <thead>\n",
       "    <tr style=\"text-align: right;\">\n",
       "      <th></th>\n",
       "      <th>workday_leisure_avg</th>\n",
       "      <th>weekend_leisure_avg</th>\n",
       "      <th>one_week_total_leisure</th>\n",
       "    </tr>\n",
       "    <tr>\n",
       "      <th>gender</th>\n",
       "      <th></th>\n",
       "      <th></th>\n",
       "      <th></th>\n",
       "    </tr>\n",
       "  </thead>\n",
       "  <tbody>\n",
       "    <tr>\n",
       "      <th>여성</th>\n",
       "      <td>2.937345</td>\n",
       "      <td>5.366859</td>\n",
       "      <td>25.420445</td>\n",
       "    </tr>\n",
       "    <tr>\n",
       "      <th>남성</th>\n",
       "      <td>2.744038</td>\n",
       "      <td>5.924483</td>\n",
       "      <td>25.569157</td>\n",
       "    </tr>\n",
       "  </tbody>\n",
       "</table>\n",
       "</div>"
      ],
      "text/plain": [
       "        workday_leisure_avg  weekend_leisure_avg  one_week_total_leisure\n",
       "gender                                                                  \n",
       "여성                 2.937345             5.366859               25.420445\n",
       "남성                 2.744038             5.924483               25.569157"
      ]
     },
     "execution_count": 112,
     "metadata": {},
     "output_type": "execute_result"
    }
   ],
   "source": [
    "leisure_use.set_index('gender')"
   ]
  },
  {
   "cell_type": "code",
   "execution_count": 114,
   "id": "88d33d98",
   "metadata": {},
   "outputs": [
    {
     "data": {
      "text/plain": [
       "<AxesSubplot:>"
      ]
     },
     "execution_count": 114,
     "metadata": {},
     "output_type": "execute_result"
    },
    {
     "data": {
      "image/png": "[encoded data removed]",
      "text/plain": [
       "<Figure size 640x480 with 1 Axes>"
      ]
     },
     "metadata": {},
     "output_type": "display_data"
    }
   ],
   "source": [
    "leisure_use.plot(kind= 'bar')"
   ]
  },
  {
   "cell_type": "code",
   "execution_count": null,
   "id": "4910cc61",
   "metadata": {},
   "outputs": [],
   "source": []
  }
 ],
 "metadata": {
  "kernelspec": {
   "display_name": "Python 3 (ipykernel)",
   "language": "python",
   "name": "python3"
  },
  "language_info": {
   "codemirror_mode": {
    "name": "ipython",
    "version": 3
   },
   "file_extension": ".py",
   "mimetype": "text/x-python",
   "name": "python",
   "nbconvert_exporter": "python",
   "pygments_lexer": "ipython3",
   "version": "3.9.13"
  },
  "vscode": {
   "interpreter": {
    "hash": "84df80d71a0ddce486e1d51002f96148855708bec7296f168ca0e37e9ca6c93b"
   }
  }
 },
 "nbformat": 4,
 "nbformat_minor": 5
}
